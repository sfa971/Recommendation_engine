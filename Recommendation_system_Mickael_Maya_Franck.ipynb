{
  "nbformat": 4,
  "nbformat_minor": 0,
  "metadata": {
    "colab": {
      "name": "Recommendation_system_Mickael_Maya_Franck",
      "provenance": [],
      "collapsed_sections": [],
      "toc_visible": true
    },
    "kernelspec": {
      "name": "python3",
      "display_name": "Python 3"
    },
    "language_info": {
      "name": "python"
    }
  },
  "cells": [
    {
      "cell_type": "code",
      "metadata": {
        "id": "oV8Pld3HpXlS"
      },
      "source": [
        "# importation des modules\n",
        "%matplotlib inline\n",
        "import pandas as pd\n",
        "import numpy as np\n",
        "import matplotlib.pyplot as plt\n",
        "import seaborn as sns\n",
        "import os\n",
        "import warnings\n",
        "\n",
        "from keras.layers import Input, Embedding, Flatten, Dot, Dense\n",
        "from keras.models import Model\n",
        "\n",
        "warnings.filterwarnings('ignore')"
      ],
      "execution_count": null,
      "outputs": []
    },
    {
      "cell_type": "code",
      "metadata": {
        "colab": {
          "base_uri": "https://localhost:8080/"
        },
        "id": "K5IZqWI2prtO",
        "outputId": "8f164a98-aa06-49bd-ebcf-fe58d82cc6b0"
      },
      "source": [
        "# Téléchargements des CSV\n",
        "!wget https://raw.githubusercontent.com/zygmuntz/goodbooks-10k/master/ratings.csv\n",
        "!wget https://raw.githubusercontent.com/zygmuntz/goodbooks-10k/master/books.csv\n",
        "!wget https://raw.githubusercontent.com/zygmuntz/goodbooks-10k/master/book_tags.csv\n",
        "!wget https://raw.githubusercontent.com/zygmuntz/goodbooks-10k/master/tags.csv"
      ],
      "execution_count": null,
      "outputs": [
        {
          "output_type": "stream",
          "text": [
            "--2021-04-27 13:09:51--  https://raw.githubusercontent.com/zygmuntz/goodbooks-10k/master/ratings.csv\n",
            "Resolving raw.githubusercontent.com (raw.githubusercontent.com)... 185.199.108.133, 185.199.109.133, 185.199.110.133, ...\n",
            "Connecting to raw.githubusercontent.com (raw.githubusercontent.com)|185.199.108.133|:443... connected.\n",
            "HTTP request sent, awaiting response... 200 OK\n",
            "Length: 72126826 (69M) [text/plain]\n",
            "Saving to: ‘ratings.csv’\n",
            "\n",
            "ratings.csv         100%[===================>]  68.79M  94.5MB/s    in 0.7s    \n",
            "\n",
            "2021-04-27 13:09:52 (94.5 MB/s) - ‘ratings.csv’ saved [72126826/72126826]\n",
            "\n",
            "--2021-04-27 13:09:52--  https://raw.githubusercontent.com/zygmuntz/goodbooks-10k/master/books.csv\n",
            "Resolving raw.githubusercontent.com (raw.githubusercontent.com)... 185.199.108.133, 185.199.109.133, 185.199.110.133, ...\n",
            "Connecting to raw.githubusercontent.com (raw.githubusercontent.com)|185.199.108.133|:443... connected.\n",
            "HTTP request sent, awaiting response... 200 OK\n",
            "Length: 3286659 (3.1M) [text/plain]\n",
            "Saving to: ‘books.csv’\n",
            "\n",
            "books.csv           100%[===================>]   3.13M  20.1MB/s    in 0.2s    \n",
            "\n",
            "2021-04-27 13:09:53 (20.1 MB/s) - ‘books.csv’ saved [3286659/3286659]\n",
            "\n",
            "--2021-04-27 13:09:53--  https://raw.githubusercontent.com/zygmuntz/goodbooks-10k/master/book_tags.csv\n",
            "Resolving raw.githubusercontent.com (raw.githubusercontent.com)... 185.199.109.133, 185.199.108.133, 185.199.110.133, ...\n",
            "Connecting to raw.githubusercontent.com (raw.githubusercontent.com)|185.199.109.133|:443... connected.\n",
            "HTTP request sent, awaiting response... 200 OK\n",
            "Length: 16665883 (16M) [text/plain]\n",
            "Saving to: ‘book_tags.csv’\n",
            "\n",
            "book_tags.csv       100%[===================>]  15.89M  40.4MB/s    in 0.4s    \n",
            "\n",
            "2021-04-27 13:09:53 (40.4 MB/s) - ‘book_tags.csv’ saved [16665883/16665883]\n",
            "\n",
            "--2021-04-27 13:09:53--  https://raw.githubusercontent.com/zygmuntz/goodbooks-10k/master/tags.csv\n",
            "Resolving raw.githubusercontent.com (raw.githubusercontent.com)... 185.199.108.133, 185.199.109.133, 185.199.110.133, ...\n",
            "Connecting to raw.githubusercontent.com (raw.githubusercontent.com)|185.199.108.133|:443... connected.\n",
            "HTTP request sent, awaiting response... 200 OK\n",
            "Length: 722480 (706K) [text/plain]\n",
            "Saving to: ‘tags.csv’\n",
            "\n",
            "tags.csv            100%[===================>] 705.55K  --.-KB/s    in 0.05s   \n",
            "\n",
            "2021-04-27 13:09:54 (13.3 MB/s) - ‘tags.csv’ saved [722480/722480]\n",
            "\n"
          ],
          "name": "stdout"
        }
      ]
    },
    {
      "cell_type": "code",
      "metadata": {
        "id": "4WOFTnrtpxqG"
      },
      "source": [
        "ratings = pd.read_csv( 'ratings.csv' )\n",
        "books = pd.read_csv( 'books.csv' )\n",
        "tags = pd.read_csv( 'tags.csv' )\n",
        "book_tags = pd.read_csv( 'book_tags.csv')"
      ],
      "execution_count": null,
      "outputs": []
    },
    {
      "cell_type": "code",
      "metadata": {
        "id": "eK4w7iN4p5PH"
      },
      "source": [
        "# Afficher les livres avec les meilleures notes\n",
        "best_ratings_count = books[['goodreads_book_id','title','original_title','average_rating','ratings_count']]\n",
        "best_ratings_count = best_ratings_count.sort_values(by=[\"average_rating\"], ascending=False)"
      ],
      "execution_count": null,
      "outputs": []
    },
    {
      "cell_type": "code",
      "metadata": {
        "id": "kdHSAcrktrpk"
      },
      "source": [
        "# Afficher les livres avec le plus de commentaires\n",
        "best_text_reviews_count = books[['goodreads_book_id','title','original_title','average_rating','work_text_reviews_count']]\n",
        "best_text_reviews_count = best_text_reviews_count.sort_values(by=[\"work_text_reviews_count\"], ascending=False)"
      ],
      "execution_count": null,
      "outputs": []
    },
    {
      "cell_type": "code",
      "metadata": {
        "colab": {
          "base_uri": "https://localhost:8080/",
          "height": 250
        },
        "id": "25nto_KNuiXN",
        "outputId": "7db2caef-968e-4bbd-b816-87465a5462e7"
      },
      "source": [
        "best_ratings_count.head(5)"
      ],
      "execution_count": null,
      "outputs": [
        {
          "output_type": "execute_result",
          "data": {
            "text/html": [
              "<div>\n",
              "<style scoped>\n",
              "    .dataframe tbody tr th:only-of-type {\n",
              "        vertical-align: middle;\n",
              "    }\n",
              "\n",
              "    .dataframe tbody tr th {\n",
              "        vertical-align: top;\n",
              "    }\n",
              "\n",
              "    .dataframe thead th {\n",
              "        text-align: right;\n",
              "    }\n",
              "</style>\n",
              "<table border=\"1\" class=\"dataframe\">\n",
              "  <thead>\n",
              "    <tr style=\"text-align: right;\">\n",
              "      <th></th>\n",
              "      <th>goodreads_book_id</th>\n",
              "      <th>title</th>\n",
              "      <th>original_title</th>\n",
              "      <th>average_rating</th>\n",
              "      <th>ratings_count</th>\n",
              "    </tr>\n",
              "  </thead>\n",
              "  <tbody>\n",
              "    <tr>\n",
              "      <th>3627</th>\n",
              "      <td>24812</td>\n",
              "      <td>The Complete Calvin and Hobbes</td>\n",
              "      <td>The Complete Calvin and Hobbes</td>\n",
              "      <td>4.82</td>\n",
              "      <td>28900</td>\n",
              "    </tr>\n",
              "    <tr>\n",
              "      <th>3274</th>\n",
              "      <td>8</td>\n",
              "      <td>Harry Potter Boxed Set, Books 1-5 (Harry Potte...</td>\n",
              "      <td>NaN</td>\n",
              "      <td>4.77</td>\n",
              "      <td>33220</td>\n",
              "    </tr>\n",
              "    <tr>\n",
              "      <th>861</th>\n",
              "      <td>17332218</td>\n",
              "      <td>Words of Radiance (The Stormlight Archive, #2)</td>\n",
              "      <td>Words of Radiance</td>\n",
              "      <td>4.77</td>\n",
              "      <td>73572</td>\n",
              "    </tr>\n",
              "    <tr>\n",
              "      <th>8853</th>\n",
              "      <td>95602</td>\n",
              "      <td>Mark of the Lion Trilogy</td>\n",
              "      <td>Mark of the Lion Trilogy</td>\n",
              "      <td>4.76</td>\n",
              "      <td>9081</td>\n",
              "    </tr>\n",
              "    <tr>\n",
              "      <th>7946</th>\n",
              "      <td>5031805</td>\n",
              "      <td>ESV Study Bible</td>\n",
              "      <td>NaN</td>\n",
              "      <td>4.76</td>\n",
              "      <td>8953</td>\n",
              "    </tr>\n",
              "  </tbody>\n",
              "</table>\n",
              "</div>"
            ],
            "text/plain": [
              "      goodreads_book_id  ... ratings_count\n",
              "3627              24812  ...         28900\n",
              "3274                  8  ...         33220\n",
              "861            17332218  ...         73572\n",
              "8853              95602  ...          9081\n",
              "7946            5031805  ...          8953\n",
              "\n",
              "[5 rows x 5 columns]"
            ]
          },
          "metadata": {
            "tags": []
          },
          "execution_count": 7
        }
      ]
    },
    {
      "cell_type": "code",
      "metadata": {
        "colab": {
          "base_uri": "https://localhost:8080/",
          "height": 250
        },
        "id": "r7wITPuBuTjM",
        "outputId": "dfc70f97-dc4e-4e40-9a81-6b633f212932"
      },
      "source": [
        "best_text_reviews_count.head(5)"
      ],
      "execution_count": null,
      "outputs": [
        {
          "output_type": "execute_result",
          "data": {
            "text/html": [
              "<div>\n",
              "<style scoped>\n",
              "    .dataframe tbody tr th:only-of-type {\n",
              "        vertical-align: middle;\n",
              "    }\n",
              "\n",
              "    .dataframe tbody tr th {\n",
              "        vertical-align: top;\n",
              "    }\n",
              "\n",
              "    .dataframe thead th {\n",
              "        text-align: right;\n",
              "    }\n",
              "</style>\n",
              "<table border=\"1\" class=\"dataframe\">\n",
              "  <thead>\n",
              "    <tr style=\"text-align: right;\">\n",
              "      <th></th>\n",
              "      <th>goodreads_book_id</th>\n",
              "      <th>title</th>\n",
              "      <th>original_title</th>\n",
              "      <th>average_rating</th>\n",
              "      <th>work_text_reviews_count</th>\n",
              "    </tr>\n",
              "  </thead>\n",
              "  <tbody>\n",
              "    <tr>\n",
              "      <th>0</th>\n",
              "      <td>2767052</td>\n",
              "      <td>The Hunger Games (The Hunger Games, #1)</td>\n",
              "      <td>The Hunger Games</td>\n",
              "      <td>4.34</td>\n",
              "      <td>155254</td>\n",
              "    </tr>\n",
              "    <tr>\n",
              "      <th>5</th>\n",
              "      <td>11870085</td>\n",
              "      <td>The Fault in Our Stars</td>\n",
              "      <td>The Fault in Our Stars</td>\n",
              "      <td>4.26</td>\n",
              "      <td>140739</td>\n",
              "    </tr>\n",
              "    <tr>\n",
              "      <th>29</th>\n",
              "      <td>8442457</td>\n",
              "      <td>Gone Girl</td>\n",
              "      <td>Gone Girl</td>\n",
              "      <td>4.03</td>\n",
              "      <td>121614</td>\n",
              "    </tr>\n",
              "    <tr>\n",
              "      <th>11</th>\n",
              "      <td>13335037</td>\n",
              "      <td>Divergent (Divergent, #1)</td>\n",
              "      <td>Divergent</td>\n",
              "      <td>4.24</td>\n",
              "      <td>101023</td>\n",
              "    </tr>\n",
              "    <tr>\n",
              "      <th>19</th>\n",
              "      <td>7260188</td>\n",
              "      <td>Mockingjay (The Hunger Games, #3)</td>\n",
              "      <td>Mockingjay</td>\n",
              "      <td>4.03</td>\n",
              "      <td>96274</td>\n",
              "    </tr>\n",
              "  </tbody>\n",
              "</table>\n",
              "</div>"
            ],
            "text/plain": [
              "    goodreads_book_id  ... work_text_reviews_count\n",
              "0             2767052  ...                  155254\n",
              "5            11870085  ...                  140739\n",
              "29            8442457  ...                  121614\n",
              "11           13335037  ...                  101023\n",
              "19            7260188  ...                   96274\n",
              "\n",
              "[5 rows x 5 columns]"
            ]
          },
          "metadata": {
            "tags": []
          },
          "execution_count": 8
        }
      ]
    },
    {
      "cell_type": "code",
      "metadata": {
        "id": "Pdq_FS_-qRkA"
      },
      "source": [
        "from sklearn.model_selection import train_test_split\n",
        "\n",
        "train, test = train_test_split(ratings, test_size=0.2, random_state=42)"
      ],
      "execution_count": null,
      "outputs": []
    },
    {
      "cell_type": "code",
      "metadata": {
        "id": "qGs79TXEqk_e"
      },
      "source": [
        "# Récupération du nombre d'utilisateurs et de livres\n",
        "user_max = len(ratings.user_id.unique())\n",
        "books_max = len(ratings.book_id.unique())"
      ],
      "execution_count": null,
      "outputs": []
    },
    {
      "cell_type": "code",
      "metadata": {
        "id": "_wrvnkVSql0J"
      },
      "source": [
        "from keras.layers import Concatenate\n",
        "\n",
        "# creating book embedding path\n",
        "book_input = Input(shape=[1], name=\"Book-Input\")\n",
        "book_embedding = Embedding(books_max+1, 5, name=\"Book-Embedding\")(book_input)\n",
        "book_vec = Flatten(name=\"Flatten-Books\")(book_embedding)\n",
        "\n",
        "# creating user embedding path\n",
        "user_input = Input(shape=[1], name=\"User-Input\")\n",
        "user_embedding = Embedding(user_max+1, 5, name=\"User-Embedding\")(user_input)\n",
        "user_vec = Flatten(name=\"Flatten-Users\")(user_embedding)\n",
        "\n",
        "# concatenate features\n",
        "conc = Concatenate()([book_vec, user_vec])\n",
        "\n",
        "# add fully-connected-layers\n",
        "fc1 = Dense(128, activation='relu')(conc)\n",
        "fc2 = Dense(32, activation='relu')(fc1)\n",
        "out = Dense(1)(fc2)\n",
        "\n",
        "# Create model and compile it\n",
        "model = Model([user_input, book_input], out)\n",
        "model.compile('adam', 'mean_squared_error')"
      ],
      "execution_count": null,
      "outputs": []
    },
    {
      "cell_type": "code",
      "metadata": {
        "id": "odMGX1YPqrQR"
      },
      "source": [
        "from keras.models import load_model\n",
        "\n",
        "if os.path.exists('regression_model2.h5'):\n",
        "    model = load_model('regression_model2.h5')\n",
        "else:\n",
        "    history = model.fit([train.user_id, train.book_id], train.rating, epochs=5, verbose=1)\n",
        "    model.save('regression_model2.h5')"
      ],
      "execution_count": null,
      "outputs": []
    },
    {
      "cell_type": "code",
      "metadata": {
        "colab": {
          "base_uri": "https://localhost:8080/"
        },
        "id": "Y9ePeGIpqrxv",
        "outputId": "6e8c221b-cb1c-4f5f-a247-9aee9adce07a"
      },
      "source": [
        "model.evaluate([test.user_id, test.book_id], test.rating)"
      ],
      "execution_count": null,
      "outputs": [
        {
          "output_type": "stream",
          "text": [
            "37353/37353 [==============================] - 39s 1ms/step - loss: 0.8166\n"
          ],
          "name": "stdout"
        },
        {
          "output_type": "execute_result",
          "data": {
            "text/plain": [
              "0.8166475892066956"
            ]
          },
          "metadata": {
            "tags": []
          },
          "execution_count": 13
        }
      ]
    },
    {
      "cell_type": "code",
      "metadata": {
        "id": "fJQzxudVqwAe"
      },
      "source": [
        "predictions = model.predict([test.user_id.head(10), test.book_id.head(10)])"
      ],
      "execution_count": null,
      "outputs": []
    },
    {
      "cell_type": "code",
      "metadata": {
        "id": "xU6B1P6FqzR-"
      },
      "source": [
        "# Making recommendations for the first user\n",
        "book_data = np.array(list(set(ratings.book_id)))\n",
        "user = np.array([1 for i in range(len(book_data))])"
      ],
      "execution_count": null,
      "outputs": []
    },
    {
      "cell_type": "code",
      "metadata": {
        "id": "kEITWVq2q0AU"
      },
      "source": [
        "predictions = model.predict([user, book_data])\n",
        "\n",
        "predictions = np.array([a[0] for a in predictions])\n",
        "\n",
        "recommended_book_ids = (-predictions).argsort()[:20]"
      ],
      "execution_count": null,
      "outputs": []
    },
    {
      "cell_type": "code",
      "metadata": {
        "id": "c3KKIAXkq5xi"
      },
      "source": [
        "recommended_book = books[books['book_id'].isin(recommended_book_ids)]"
      ],
      "execution_count": null,
      "outputs": []
    },
    {
      "cell_type": "code",
      "metadata": {
        "id": "z8J30siQrAxI"
      },
      "source": [
        "recommended_book = recommended_book.sort_values(by=[\"average_rating\"], ascending=False)"
      ],
      "execution_count": null,
      "outputs": []
    },
    {
      "cell_type": "code",
      "metadata": {
        "id": "P7SsYZuhsf0N"
      },
      "source": [
        "recommended_book['original_publication_year'] = recommended_book['original_publication_year'].astype(int)"
      ],
      "execution_count": null,
      "outputs": []
    },
    {
      "cell_type": "code",
      "metadata": {
        "colab": {
          "base_uri": "https://localhost:8080/",
          "height": 185
        },
        "id": "C81aQDKJ_aDV",
        "outputId": "d2217245-deef-44fc-faf3-ad4244de75d9"
      },
      "source": [
        "recommended_book.head(1)"
      ],
      "execution_count": null,
      "outputs": [
        {
          "output_type": "execute_result",
          "data": {
            "text/html": [
              "<div>\n",
              "<style scoped>\n",
              "    .dataframe tbody tr th:only-of-type {\n",
              "        vertical-align: middle;\n",
              "    }\n",
              "\n",
              "    .dataframe tbody tr th {\n",
              "        vertical-align: top;\n",
              "    }\n",
              "\n",
              "    .dataframe thead th {\n",
              "        text-align: right;\n",
              "    }\n",
              "</style>\n",
              "<table border=\"1\" class=\"dataframe\">\n",
              "  <thead>\n",
              "    <tr style=\"text-align: right;\">\n",
              "      <th></th>\n",
              "      <th>book_id</th>\n",
              "      <th>goodreads_book_id</th>\n",
              "      <th>best_book_id</th>\n",
              "      <th>work_id</th>\n",
              "      <th>books_count</th>\n",
              "      <th>isbn</th>\n",
              "      <th>isbn13</th>\n",
              "      <th>authors</th>\n",
              "      <th>original_publication_year</th>\n",
              "      <th>original_title</th>\n",
              "      <th>title</th>\n",
              "      <th>language_code</th>\n",
              "      <th>average_rating</th>\n",
              "      <th>ratings_count</th>\n",
              "      <th>work_ratings_count</th>\n",
              "      <th>work_text_reviews_count</th>\n",
              "      <th>ratings_1</th>\n",
              "      <th>ratings_2</th>\n",
              "      <th>ratings_3</th>\n",
              "      <th>ratings_4</th>\n",
              "      <th>ratings_5</th>\n",
              "      <th>image_url</th>\n",
              "      <th>small_image_url</th>\n",
              "    </tr>\n",
              "  </thead>\n",
              "  <tbody>\n",
              "    <tr>\n",
              "      <th>3626</th>\n",
              "      <td>3627</td>\n",
              "      <td>7592279</td>\n",
              "      <td>7592279</td>\n",
              "      <td>9985502</td>\n",
              "      <td>37</td>\n",
              "      <td>1741664489</td>\n",
              "      <td>9.781742e+12</td>\n",
              "      <td>John Flanagan</td>\n",
              "      <td>2011</td>\n",
              "      <td>NaN</td>\n",
              "      <td>The Emperor of Nihon-Ja (Ranger's Apprentice, ...</td>\n",
              "      <td>eng</td>\n",
              "      <td>4.42</td>\n",
              "      <td>29397</td>\n",
              "      <td>33357</td>\n",
              "      <td>1089</td>\n",
              "      <td>226</td>\n",
              "      <td>618</td>\n",
              "      <td>3569</td>\n",
              "      <td>9564</td>\n",
              "      <td>19380</td>\n",
              "      <td>https://images.gr-assets.com/books/1446448563m...</td>\n",
              "      <td>https://images.gr-assets.com/books/1446448563s...</td>\n",
              "    </tr>\n",
              "  </tbody>\n",
              "</table>\n",
              "</div>"
            ],
            "text/plain": [
              "      book_id  ...                                    small_image_url\n",
              "3626     3627  ...  https://images.gr-assets.com/books/1446448563s...\n",
              "\n",
              "[1 rows x 23 columns]"
            ]
          },
          "metadata": {
            "tags": []
          },
          "execution_count": 20
        }
      ]
    },
    {
      "cell_type": "code",
      "metadata": {
        "id": "2oc4EFXvtbZC"
      },
      "source": [
        "recommended_book = recommended_book.loc[:,['title','authors','original_publication_year','average_rating','work_text_reviews_count']]"
      ],
      "execution_count": null,
      "outputs": []
    },
    {
      "cell_type": "code",
      "metadata": {
        "colab": {
          "base_uri": "https://localhost:8080/",
          "height": 1000
        },
        "id": "g-yRT2FoAZSN",
        "outputId": "a36ffdc5-b9a6-4073-c49c-69447e9745f0"
      },
      "source": [
        "recommended_book"
      ],
      "execution_count": null,
      "outputs": [
        {
          "output_type": "execute_result",
          "data": {
            "text/html": [
              "<div>\n",
              "<style scoped>\n",
              "    .dataframe tbody tr th:only-of-type {\n",
              "        vertical-align: middle;\n",
              "    }\n",
              "\n",
              "    .dataframe tbody tr th {\n",
              "        vertical-align: top;\n",
              "    }\n",
              "\n",
              "    .dataframe thead th {\n",
              "        text-align: right;\n",
              "    }\n",
              "</style>\n",
              "<table border=\"1\" class=\"dataframe\">\n",
              "  <thead>\n",
              "    <tr style=\"text-align: right;\">\n",
              "      <th></th>\n",
              "      <th>title</th>\n",
              "      <th>authors</th>\n",
              "      <th>original_publication_year</th>\n",
              "      <th>average_rating</th>\n",
              "      <th>work_text_reviews_count</th>\n",
              "    </tr>\n",
              "  </thead>\n",
              "  <tbody>\n",
              "    <tr>\n",
              "      <th>3626</th>\n",
              "      <td>The Emperor of Nihon-Ja (Ranger's Apprentice, ...</td>\n",
              "      <td>John Flanagan</td>\n",
              "      <td>2011</td>\n",
              "      <td>4.42</td>\n",
              "      <td>1089</td>\n",
              "    </tr>\n",
              "    <tr>\n",
              "      <th>190</th>\n",
              "      <td>Watchmen</td>\n",
              "      <td>Alan Moore, Dave Gibbons, John Higgins</td>\n",
              "      <td>1987</td>\n",
              "      <td>4.35</td>\n",
              "      <td>10851</td>\n",
              "    </tr>\n",
              "    <tr>\n",
              "      <th>860</th>\n",
              "      <td>Walking Disaster (Beautiful, #2)</td>\n",
              "      <td>Jamie McGuire</td>\n",
              "      <td>2013</td>\n",
              "      <td>4.23</td>\n",
              "      <td>11348</td>\n",
              "    </tr>\n",
              "    <tr>\n",
              "      <th>8944</th>\n",
              "      <td>The Next Accident (Quincy &amp; Rainie, #3)</td>\n",
              "      <td>Lisa Gardner</td>\n",
              "      <td>2001</td>\n",
              "      <td>4.16</td>\n",
              "      <td>513</td>\n",
              "    </tr>\n",
              "    <tr>\n",
              "      <th>8852</th>\n",
              "      <td>Sudden Prey (Lucas Davenport, #8)</td>\n",
              "      <td>John Sandford</td>\n",
              "      <td>1996</td>\n",
              "      <td>4.15</td>\n",
              "      <td>363</td>\n",
              "    </tr>\n",
              "    <tr>\n",
              "      <th>6918</th>\n",
              "      <td>Napalm &amp; Silly Putty</td>\n",
              "      <td>George Carlin</td>\n",
              "      <td>2001</td>\n",
              "      <td>4.12</td>\n",
              "      <td>316</td>\n",
              "    </tr>\n",
              "    <tr>\n",
              "      <th>3751</th>\n",
              "      <td>Poirot Investiga (Hércules Poirot, #3)</td>\n",
              "      <td>Agatha Christie</td>\n",
              "      <td>1924</td>\n",
              "      <td>4.07</td>\n",
              "      <td>779</td>\n",
              "    </tr>\n",
              "    <tr>\n",
              "      <th>9074</th>\n",
              "      <td>Princess of Glass (The Princesses of Westfalin...</td>\n",
              "      <td>Jessica Day George</td>\n",
              "      <td>2010</td>\n",
              "      <td>4.03</td>\n",
              "      <td>1669</td>\n",
              "    </tr>\n",
              "    <tr>\n",
              "      <th>3356</th>\n",
              "      <td>The Collectors (Camel Club, #2)</td>\n",
              "      <td>David Baldacci</td>\n",
              "      <td>2006</td>\n",
              "      <td>4.01</td>\n",
              "      <td>1417</td>\n",
              "    </tr>\n",
              "    <tr>\n",
              "      <th>5578</th>\n",
              "      <td>Vanish (Firelight, #2)</td>\n",
              "      <td>Sophie Jordan</td>\n",
              "      <td>2011</td>\n",
              "      <td>3.95</td>\n",
              "      <td>2028</td>\n",
              "    </tr>\n",
              "    <tr>\n",
              "      <th>4866</th>\n",
              "      <td>Skin Trade (Anita Blake, Vampire Hunter #17)</td>\n",
              "      <td>Laurell K. Hamilton</td>\n",
              "      <td>2009</td>\n",
              "      <td>3.90</td>\n",
              "      <td>1081</td>\n",
              "    </tr>\n",
              "    <tr>\n",
              "      <th>7945</th>\n",
              "      <td>The Beauty Myth</td>\n",
              "      <td>Naomi Wolf</td>\n",
              "      <td>1990</td>\n",
              "      <td>3.89</td>\n",
              "      <td>790</td>\n",
              "    </tr>\n",
              "    <tr>\n",
              "      <th>5205</th>\n",
              "      <td>Sick Puppy</td>\n",
              "      <td>Carl Hiaasen</td>\n",
              "      <td>2000</td>\n",
              "      <td>3.88</td>\n",
              "      <td>1069</td>\n",
              "    </tr>\n",
              "    <tr>\n",
              "      <th>6588</th>\n",
              "      <td>Iceberg (Dirk Pitt, #3)</td>\n",
              "      <td>Clive Cussler</td>\n",
              "      <td>1974</td>\n",
              "      <td>3.83</td>\n",
              "      <td>366</td>\n",
              "    </tr>\n",
              "    <tr>\n",
              "      <th>1786</th>\n",
              "      <td>هيبتا</td>\n",
              "      <td>محمد صادق</td>\n",
              "      <td>2014</td>\n",
              "      <td>3.82</td>\n",
              "      <td>5680</td>\n",
              "    </tr>\n",
              "    <tr>\n",
              "      <th>9840</th>\n",
              "      <td>Blackberry Wine</td>\n",
              "      <td>Joanne Harris</td>\n",
              "      <td>1999</td>\n",
              "      <td>3.78</td>\n",
              "      <td>699</td>\n",
              "    </tr>\n",
              "    <tr>\n",
              "      <th>8107</th>\n",
              "      <td>The Last Girl (The Dominion Trilogy, #1)</td>\n",
              "      <td>Joe Hart</td>\n",
              "      <td>2016</td>\n",
              "      <td>3.77</td>\n",
              "      <td>1244</td>\n",
              "    </tr>\n",
              "    <tr>\n",
              "      <th>2147</th>\n",
              "      <td>Monster</td>\n",
              "      <td>Walter Dean Myers</td>\n",
              "      <td>1999</td>\n",
              "      <td>3.70</td>\n",
              "      <td>4394</td>\n",
              "    </tr>\n",
              "    <tr>\n",
              "      <th>9564</th>\n",
              "      <td>Winter Stroll (Winter #2)</td>\n",
              "      <td>Elin Hilderbrand</td>\n",
              "      <td>2015</td>\n",
              "      <td>3.70</td>\n",
              "      <td>979</td>\n",
              "    </tr>\n",
              "    <tr>\n",
              "      <th>7881</th>\n",
              "      <td>The Little Coffee Shop of Kabul</td>\n",
              "      <td>Deborah Rodriguez</td>\n",
              "      <td>2011</td>\n",
              "      <td>3.57</td>\n",
              "      <td>1571</td>\n",
              "    </tr>\n",
              "  </tbody>\n",
              "</table>\n",
              "</div>"
            ],
            "text/plain": [
              "                                                  title  ... work_text_reviews_count\n",
              "3626  The Emperor of Nihon-Ja (Ranger's Apprentice, ...  ...                    1089\n",
              "190                                            Watchmen  ...                   10851\n",
              "860                    Walking Disaster (Beautiful, #2)  ...                   11348\n",
              "8944            The Next Accident (Quincy & Rainie, #3)  ...                     513\n",
              "8852                  Sudden Prey (Lucas Davenport, #8)  ...                     363\n",
              "6918                               Napalm & Silly Putty  ...                     316\n",
              "3751             Poirot Investiga (Hércules Poirot, #3)  ...                     779\n",
              "9074  Princess of Glass (The Princesses of Westfalin...  ...                    1669\n",
              "3356                    The Collectors (Camel Club, #2)  ...                    1417\n",
              "5578                             Vanish (Firelight, #2)  ...                    2028\n",
              "4866       Skin Trade (Anita Blake, Vampire Hunter #17)  ...                    1081\n",
              "7945                                    The Beauty Myth  ...                     790\n",
              "5205                                         Sick Puppy  ...                    1069\n",
              "6588                            Iceberg (Dirk Pitt, #3)  ...                     366\n",
              "1786                                              هيبتا  ...                    5680\n",
              "9840                                    Blackberry Wine  ...                     699\n",
              "8107           The Last Girl (The Dominion Trilogy, #1)  ...                    1244\n",
              "2147                                            Monster  ...                    4394\n",
              "9564                          Winter Stroll (Winter #2)  ...                     979\n",
              "7881                    The Little Coffee Shop of Kabul  ...                    1571\n",
              "\n",
              "[20 rows x 5 columns]"
            ]
          },
          "metadata": {
            "tags": []
          },
          "execution_count": 22
        }
      ]
    },
    {
      "cell_type": "code",
      "metadata": {
        "id": "AiOq2gfjAafG"
      },
      "source": [
        ""
      ],
      "execution_count": null,
      "outputs": []
    }
  ]
}